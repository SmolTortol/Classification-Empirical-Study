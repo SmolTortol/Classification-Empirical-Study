{
 "cells": [
  {
   "cell_type": "markdown",
   "id": "c903b5da-1cbd-4178-ae1c-719408a4b819",
   "metadata": {},
   "source": [
    "**CSI 4106 Assignment 2**\n",
    "\n",
    "Group 61:\n",
    "- Owen Jory 300168367"
   ]
  },
  {
   "cell_type": "markdown",
   "id": "03e79200-ffcd-4fa5-8d94-1f124443ec90",
   "metadata": {},
   "source": [
    "------------------------------------------------------------------------------------------------------------------------------------------------------------------------------"
   ]
  },
  {
   "cell_type": "markdown",
   "id": "0c709fb8-1639-43a6-9681-4bd62d90a4ec",
   "metadata": {},
   "source": [
    "**1. Familiarize yourself with the classification task and the dataset**"
   ]
  },
  {
   "cell_type": "markdown",
   "id": "52465cee-fac0-481e-b457-de9417f2a0ab",
   "metadata": {},
   "source": [
    "**(a) What is the goal of the task? Is this for a particular application?**\n",
    "\n",
    "The goal of the task is to use 'age', 'systolic blood pressure', 'diastolic blood pressure', 'blood sugar', 'body temperature', and 'heart rate' to predict the danger of maternal mortality."
   ]
  },
  {
   "cell_type": "markdown",
   "id": "8b0edb8b-332e-443c-97f1-d4b2f57e3dbc",
   "metadata": {},
   "source": [
    "**(b) Characterize the dataset in terms of number of training examples, number of features, missing data, etc**\n",
    "\n",
    "The dataset contains 1014 samples with 6 features each. There are no missing features within the dataset."
   ]
  },
  {
   "cell_type": "markdown",
   "id": "02362fc2-4568-4f17-abef-fdb33681fe5e",
   "metadata": {},
   "source": [
    "------------------------------------------------------------------------------------------------------------------------------------------------------------------------------"
   ]
  },
  {
   "cell_type": "markdown",
   "id": "9171129f-34b4-41a1-b99e-b1f4dba0e988",
   "metadata": {},
   "source": [
    "**2. Brainstorm about the attributes (Feature engineering)**"
   ]
  },
  {
   "cell_type": "markdown",
   "id": "6ff19ffc-25fd-4990-9eb3-913e33f90138",
   "metadata": {},
   "source": [
    "**(a) Think about the features that could be useful for this task, are they all present in the dataset? Anything missing? Any feature provided that doesn’t seem useful to you?**\n",
    "\n",
    "All the features I would need are in the dataset. There is no missing data for any features"
   ]
  },
  {
   "cell_type": "markdown",
   "id": "227d7f8a-8379-4188-8222-43f07e7bb7fb",
   "metadata": {},
   "source": [
    "**(b) What are the ranges of each feature?**\n",
    "\n",
    "|Feature_Name|min|max|\n",
    "|---|---|---|\n",
    "|Age|10|70|\n",
    "|SystolicBP|70|160|\n",
    "|DiastolicBP|49|100|\n",
    "|BS|6|19|\n",
    "|BodyTemp|98|103|\n",
    "|HeartRate|7|90|"
   ]
  },
  {
   "cell_type": "markdown",
   "id": "71a42e86-6cc7-4e1c-96b7-c6067c74199f",
   "metadata": {},
   "source": [
    "------------------------------------------------------------------------------------------------------------------------------------------------------------------------------"
   ]
  },
  {
   "cell_type": "markdown",
   "id": "bd1ddd65-bb4e-4d6b-ad90-55d1b07b3bc6",
   "metadata": {},
   "source": [
    "**3. Encode the features**"
   ]
  },
  {
   "cell_type": "markdown",
   "id": "30d2aa9c-48a9-4f80-baae-75a637d25c05",
   "metadata": {},
   "source": [
    "**(a) Think about data encoding and transformation**"
   ]
  },
  {
   "cell_type": "code",
   "execution_count": 1,
   "id": "de76560f-a414-44ce-ad28-b76b1bb384ff",
   "metadata": {},
   "outputs": [],
   "source": [
    "import pandas as pd\n",
    "from sklearn.model_selection import train_test_split"
   ]
  },
  {
   "cell_type": "code",
   "execution_count": 2,
   "id": "34463789-b1ff-4c4f-9a6e-55e8cd9e7649",
   "metadata": {},
   "outputs": [
    {
     "data": {
      "text/html": [
       "<div>\n",
       "<style scoped>\n",
       "    .dataframe tbody tr th:only-of-type {\n",
       "        vertical-align: middle;\n",
       "    }\n",
       "\n",
       "    .dataframe tbody tr th {\n",
       "        vertical-align: top;\n",
       "    }\n",
       "\n",
       "    .dataframe thead th {\n",
       "        text-align: right;\n",
       "    }\n",
       "</style>\n",
       "<table border=\"1\" class=\"dataframe\">\n",
       "  <thead>\n",
       "    <tr style=\"text-align: right;\">\n",
       "      <th></th>\n",
       "      <th>Age</th>\n",
       "      <th>SystolicBP</th>\n",
       "      <th>DiastolicBP</th>\n",
       "      <th>BS</th>\n",
       "      <th>BodyTemp</th>\n",
       "      <th>HeartRate</th>\n",
       "      <th>RiskLevel</th>\n",
       "    </tr>\n",
       "  </thead>\n",
       "  <tbody>\n",
       "    <tr>\n",
       "      <th>0</th>\n",
       "      <td>25</td>\n",
       "      <td>130</td>\n",
       "      <td>80</td>\n",
       "      <td>15.0</td>\n",
       "      <td>98.0</td>\n",
       "      <td>86</td>\n",
       "      <td>high risk</td>\n",
       "    </tr>\n",
       "    <tr>\n",
       "      <th>1</th>\n",
       "      <td>35</td>\n",
       "      <td>140</td>\n",
       "      <td>90</td>\n",
       "      <td>13.0</td>\n",
       "      <td>98.0</td>\n",
       "      <td>70</td>\n",
       "      <td>high risk</td>\n",
       "    </tr>\n",
       "    <tr>\n",
       "      <th>2</th>\n",
       "      <td>29</td>\n",
       "      <td>90</td>\n",
       "      <td>70</td>\n",
       "      <td>8.0</td>\n",
       "      <td>100.0</td>\n",
       "      <td>80</td>\n",
       "      <td>high risk</td>\n",
       "    </tr>\n",
       "    <tr>\n",
       "      <th>3</th>\n",
       "      <td>30</td>\n",
       "      <td>140</td>\n",
       "      <td>85</td>\n",
       "      <td>7.0</td>\n",
       "      <td>98.0</td>\n",
       "      <td>70</td>\n",
       "      <td>high risk</td>\n",
       "    </tr>\n",
       "    <tr>\n",
       "      <th>4</th>\n",
       "      <td>35</td>\n",
       "      <td>120</td>\n",
       "      <td>60</td>\n",
       "      <td>6.1</td>\n",
       "      <td>98.0</td>\n",
       "      <td>76</td>\n",
       "      <td>low risk</td>\n",
       "    </tr>\n",
       "  </tbody>\n",
       "</table>\n",
       "</div>"
      ],
      "text/plain": [
       "   Age  SystolicBP  DiastolicBP    BS  BodyTemp  HeartRate  RiskLevel\n",
       "0   25         130           80  15.0      98.0         86  high risk\n",
       "1   35         140           90  13.0      98.0         70  high risk\n",
       "2   29          90           70   8.0     100.0         80  high risk\n",
       "3   30         140           85   7.0      98.0         70  high risk\n",
       "4   35         120           60   6.1      98.0         76   low risk"
      ]
     },
     "execution_count": 2,
     "metadata": {},
     "output_type": "execute_result"
    }
   ],
   "source": [
    "url = \"Maternal Health Risk Data Set.csv\"\n",
    "\n",
    "ds = pd.read_csv(url)\n",
    "ds.head()"
   ]
  },
  {
   "cell_type": "code",
   "execution_count": 3,
   "id": "0dfeb629-620b-4ec6-9989-a0e71e9d3dae",
   "metadata": {},
   "outputs": [],
   "source": [
    "# Which columns are features and which is the target\n",
    "features = ds[['Age', 'SystolicBP', 'DiastolicBP', 'BS', 'BodyTemp', 'HeartRate']]\n",
    "target = ds.RiskLevel"
   ]
  },
  {
   "cell_type": "code",
   "execution_count": 4,
   "id": "2c70ea97-596b-4b2c-8c0c-6e99d3199bad",
   "metadata": {},
   "outputs": [],
   "source": [
    "# Here I specify i will be doing 4-fold cross validation\n",
    "features_train, features_test, target_train, target_test = train_test_split(features, target, test_size=1/4)"
   ]
  },
  {
   "cell_type": "markdown",
   "id": "dd4347bd-24b3-47e8-af88-059cf4fa69ae",
   "metadata": {},
   "source": [
    "**(b) Logistic Regression**"
   ]
  },
  {
   "cell_type": "code",
   "execution_count": 5,
   "id": "edf6ba32-3d9b-4d62-ae70-97a654001569",
   "metadata": {},
   "outputs": [],
   "source": [
    "from sklearn.linear_model import LogisticRegression"
   ]
  },
  {
   "cell_type": "markdown",
   "id": "f92fceea-27e8-40d8-8f6d-ec0a69df54a4",
   "metadata": {},
   "source": [
    "**(c) Naive Bayes**"
   ]
  },
  {
   "cell_type": "code",
   "execution_count": 6,
   "id": "14e2ab66-d2b6-42e4-9dd3-e4530ccff2b5",
   "metadata": {},
   "outputs": [],
   "source": [
    "from sklearn.naive_bayes import GaussianNB"
   ]
  },
  {
   "cell_type": "markdown",
   "id": "6c6fb1f2-a186-44a5-ba1c-7c2e8ccf890a",
   "metadata": {},
   "source": [
    "------------------------------------------------------------------------------------------------------------------------------------------------------------------------------"
   ]
  },
  {
   "cell_type": "markdown",
   "id": "afd06aae-e378-44a1-b1d6-0ce59b1a1405",
   "metadata": {},
   "source": [
    "**4. Define 2 models using some default parameters**"
   ]
  },
  {
   "cell_type": "markdown",
   "id": "4d384267-7fd9-4e0a-9c2a-5d2cdc41f0a9",
   "metadata": {},
   "source": [
    "**(a) Logistic Regression Model**"
   ]
  },
  {
   "cell_type": "code",
   "execution_count": 7,
   "id": "6a280f34-24b2-45fb-99c3-0e55650467f2",
   "metadata": {},
   "outputs": [],
   "source": [
    "from sklearn import preprocessing\n",
    "\n",
    "logreg = LogisticRegression(max_iter=1014)\n",
    "\n",
    "scaler = preprocessing.StandardScaler().fit(features)\n",
    "features_train_scaled = scaler.transform(features_train)\n",
    "features_test_scaled = scaler.transform(features_test)"
   ]
  },
  {
   "cell_type": "markdown",
   "id": "5cb5f353-6850-47ec-91ec-77b8cbedbec2",
   "metadata": {},
   "source": [
    "**(b) Naïve Bayes Model**"
   ]
  },
  {
   "cell_type": "code",
   "execution_count": 8,
   "id": "947b0d3a-8029-4269-be2e-32b0ace263cd",
   "metadata": {},
   "outputs": [],
   "source": [
    "gaussian = GaussianNB()"
   ]
  },
  {
   "cell_type": "markdown",
   "id": "bc96e4f2-34d3-4c12-a444-0a5541211c64",
   "metadata": {},
   "source": [
    "------------------------------------------------------------------------------------------------------------------------------------------------------------------------------"
   ]
  },
  {
   "cell_type": "markdown",
   "id": "eb900991-9819-4b56-8d05-07c28d33a60f",
   "metadata": {},
   "source": [
    "**5. Train/test/evaluate your 2 models in cross-validation**"
   ]
  },
  {
   "cell_type": "markdown",
   "id": "700f2595-82a6-4d01-95dd-004563f5e8c6",
   "metadata": {},
   "source": [
    "**(a) Use a 4-fold cross validation**\n",
    "\n",
    "See (3.a)"
   ]
  },
  {
   "cell_type": "markdown",
   "id": "7ad7ab7e-755c-4612-b346-80fb7e53cc79",
   "metadata": {},
   "source": [
    "**(b) Perform an evaluation with precision/recall measures**"
   ]
  },
  {
   "cell_type": "code",
   "execution_count": 9,
   "id": "01dedac2-fd76-4ea4-8c1b-81255d560d37",
   "metadata": {},
   "outputs": [],
   "source": [
    "from sklearn import metrics"
   ]
  },
  {
   "cell_type": "code",
   "execution_count": 10,
   "id": "03a55aa3-5eb3-456c-baf9-334db7a2fcf4",
   "metadata": {},
   "outputs": [
    {
     "name": "stdout",
     "output_type": "stream",
     "text": [
      "0.5669291338582677\n"
     ]
    }
   ],
   "source": [
    "# Logistic Regression\n",
    "logreg.fit(features_train_scaled, target_train)\n",
    "\n",
    "target_pred = logreg.predict(features_test_scaled)\n",
    "\n",
    "print(metrics.accuracy_score(target_pred, target_test))"
   ]
  },
  {
   "cell_type": "code",
   "execution_count": 11,
   "id": "a096461e-f06d-41af-8990-ea09d7d7a9e2",
   "metadata": {},
   "outputs": [
    {
     "name": "stdout",
     "output_type": "stream",
     "text": [
      "0.5984251968503937\n"
     ]
    }
   ],
   "source": [
    "# Naïve Bayes Model\n",
    "gaussian.fit(features_train, target_train)\n",
    "\n",
    "target_pred = gaussian.predict(features_test)\n",
    "\n",
    "print(metrics.accuracy_score(target_pred, target_test))"
   ]
  },
  {
   "cell_type": "markdown",
   "id": "2593a78c-431d-45e2-b53a-b5c5063e74e3",
   "metadata": {},
   "source": [
    "------------------------------------------------------------------------------------------------------------------------------------------------------------------------------"
   ]
  },
  {
   "cell_type": "markdown",
   "id": "d514ddc1-0df6-4764-9aa2-ca0fb5f501bc",
   "metadata": {},
   "source": [
    "**6. For each type of model (Naïve Bayes and Logistic Regression), modify some parameters, and perform a train/test/evaluate again. Do this for two times**"
   ]
  },
  {
   "cell_type": "code",
   "execution_count": 12,
   "id": "96d29609-46e2-4ad0-b5d5-27b0dc96b226",
   "metadata": {},
   "outputs": [
    {
     "name": "stdout",
     "output_type": "stream",
     "text": [
      "0.5669291338582677\n"
     ]
    }
   ],
   "source": [
    "# Logistic Regression with 'balanced' class weight\n",
    "logreg = LogisticRegression(max_iter=1014, class_weight='balanced')\n",
    "\n",
    "logreg.fit(features_train_scaled, target_train)\n",
    "\n",
    "target_pred = logreg.predict(features_test_scaled)\n",
    "\n",
    "print(metrics.accuracy_score(target_pred, target_test))"
   ]
  },
  {
   "cell_type": "code",
   "execution_count": 13,
   "id": "d7bb4504-8d69-447a-860b-b29390731dff",
   "metadata": {},
   "outputs": [
    {
     "name": "stdout",
     "output_type": "stream",
     "text": [
      "0.5708661417322834\n"
     ]
    }
   ],
   "source": [
    "# Logistic Regression with stronger regularization\n",
    "logreg = LogisticRegression(max_iter=1014, C=.5)\n",
    "\n",
    "logreg.fit(features_train_scaled, target_train)\n",
    "\n",
    "target_pred = logreg.predict(features_test_scaled)\n",
    "\n",
    "print(metrics.accuracy_score(target_pred, target_test))"
   ]
  },
  {
   "cell_type": "code",
   "execution_count": 14,
   "id": "11e99dd4-fbbe-4b45-9d6e-e0702518908f",
   "metadata": {},
   "outputs": [
    {
     "name": "stdout",
     "output_type": "stream",
     "text": [
      "0.4645669291338583\n"
     ]
    }
   ],
   "source": [
    "# Naïve Bayes Model with smoothing factor of 1\n",
    "gaussian = GaussianNB(var_smoothing = 1)\n",
    "\n",
    "gaussian.fit(features_train, target_train)\n",
    "\n",
    "target_pred = gaussian.predict(features_test)\n",
    "\n",
    "print(metrics.accuracy_score(target_pred, target_test))"
   ]
  },
  {
   "cell_type": "code",
   "execution_count": 15,
   "id": "75c29235-d08e-44e7-ae6a-78e3f96c1eca",
   "metadata": {},
   "outputs": [
    {
     "name": "stdout",
     "output_type": "stream",
     "text": [
      "0.594488188976378\n"
     ]
    }
   ],
   "source": [
    "# Naïve Bayes Model with smoothing factor of .001\n",
    "gaussian = GaussianNB(var_smoothing = .001)\n",
    "\n",
    "gaussian.fit(features_train, target_train)\n",
    "\n",
    "target_pred = gaussian.predict(features_test)\n",
    "\n",
    "print(metrics.accuracy_score(target_pred, target_test))"
   ]
  },
  {
   "cell_type": "markdown",
   "id": "3ed658c8-1c1c-410c-b773-ced25f184b1b",
   "metadata": {},
   "source": [
    "------------------------------------------------------------------------------------------------------------------------------------------------------------------------------"
   ]
  },
  {
   "cell_type": "markdown",
   "id": "e6c8fdea-07ea-4358-a329-6d7f16fdeaae",
   "metadata": {},
   "source": [
    "**7. Analyze the obtained results**"
   ]
  },
  {
   "cell_type": "markdown",
   "id": "de3fcb22-b9b0-4495-b000-0e261a374931",
   "metadata": {},
   "source": [
    "|Model|Accuracy|\n",
    "|---|---|\n",
    "|Logistic Regression|~61%|\n",
    "|Logistic Regression with balanced class weight|~60%|\n",
    "|Logistic Regression with .5 regularization|~61%|\n",
    "|Naïve Bayes|~63%|\n",
    "|Naïve Bayes with smoothing factor of 1|~51%|\n",
    "|Naïve Bayes with smoothing factor of .001|~63%|"
   ]
  },
  {
   "cell_type": "markdown",
   "id": "f8671095-8a26-454d-890e-b364249e895b",
   "metadata": {},
   "source": [
    "Notes:\n",
    "- While *Logistic Regression* has the same accuracy as *Logistic Regression with .5 regularization*, the latter generally performs better\n",
    "- While *Naïve Bayes* has the same accuracy as *Naïve Bayes with smoothing factor of .001*, the latter varies much more from test to test"
   ]
  },
  {
   "cell_type": "markdown",
   "id": "505d9fb3-1644-46f0-8cde-944688fb86ba",
   "metadata": {},
   "source": [
    "Summary:\n",
    "\n",
    "Of the models I have used here, I would recommend the base *Naïve Bayes* model for this problem. This is on account of it's higher accuracy and lower variation.\n",
    "It should be noted that all of these models perform significantly better than random guessing, which for this problem would have an accuracy of around 33%."
   ]
  }
 ],
 "metadata": {
  "kernelspec": {
   "display_name": "Python 3 (ipykernel)",
   "language": "python",
   "name": "python3"
  },
  "language_info": {
   "codemirror_mode": {
    "name": "ipython",
    "version": 3
   },
   "file_extension": ".py",
   "mimetype": "text/x-python",
   "name": "python",
   "nbconvert_exporter": "python",
   "pygments_lexer": "ipython3",
   "version": "3.9.13"
  }
 },
 "nbformat": 4,
 "nbformat_minor": 5
}
